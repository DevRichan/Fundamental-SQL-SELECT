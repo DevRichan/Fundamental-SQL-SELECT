{
  "nbformat": 4,
  "nbformat_minor": 0,
  "metadata": {
    "colab": {
      "name": "SELECT USING PREFIX AND ALIAS.ipynb",
      "provenance": [],
      "collapsed_sections": [],
      "authorship_tag": "ABX9TyP4Jpw9h6p9TKQgXnPCk6OD",
      "include_colab_link": true
    },
    "kernelspec": {
      "name": "python3",
      "display_name": "Python 3"
    }
  },
  "cells": [
    {
      "cell_type": "markdown",
      "metadata": {
        "id": "view-in-github",
        "colab_type": "text"
      },
      "source": [
        "<a href=\"https://colab.research.google.com/github/DevRichan/Fundamental-SQL-SELECT/blob/master/SELECT_USING_PREFIX_AND_ALIAS.ipynb\" target=\"_parent\"><img src=\"https://colab.research.google.com/assets/colab-badge.svg\" alt=\"Open In Colab\"/></a>"
      ]
    },
    {
      "cell_type": "markdown",
      "metadata": {
        "id": "8Ao5AIxxAjSj",
        "colab_type": "text"
      },
      "source": [
        "**Prefix dan Alias**\n",
        "\n",
        "**Prefix**, dimana kita akan menambahkan nama tabel di depan nama kolom.\n",
        "\n",
        "**Alias**, dimana kita memberikan alias atau nama lain untuk tabel maupun kolom.\n",
        "\n",
        "**SELECT t1.kode_produk AS product_code, t1.nama_produk AS product_name, t1.harga AS price FROM ms_produk AS t1;**\n",
        "\n",
        "\n",
        "t1 = prefix\n",
        "AS = alias"
      ]
    },
    {
      "cell_type": "markdown",
      "metadata": {
        "id": "5YOvLv4lAqDB",
        "colab_type": "text"
      },
      "source": [
        "**Contoh Praktik Prefix**\n",
        "\n",
        "Prefix = SELECT nama_tabel.nama_kolom FROM nama_tabel\n",
        "\n",
        "SELECT ms_produk.kode_produk FROM ms_produk\t\t\t\t"
      ]
    },
    {
      "cell_type": "markdown",
      "metadata": {
        "id": "FF-y5xZsCIDj",
        "colab_type": "text"
      },
      "source": [
        "**Contoh Praktik Alias**\n",
        "\n",
        "Alias = SELECT nama_kolom AS nama_kolom_baru FROM nama_tabel\n",
        "\n",
        "SELECT no_urut AS nomor, nama_produk As nama FROM ms_produk\n",
        "\n",
        "bisa juga tanpa menggunakan AS:\n",
        "\n",
        "SELECT no_urut nomor, nama_produk nama FROM ms_produk"
      ]
    },
    {
      "cell_type": "markdown",
      "metadata": {
        "id": "4gXrMpJ0Fd9z",
        "colab_type": "text"
      },
      "source": [
        "**Contoh penggabungan Prefix dan Alias**\n",
        "\n",
        "SELECT ms_produk.harga AS harga_jual FROM ms_produk"
      ]
    },
    {
      "cell_type": "markdown",
      "metadata": {
        "id": "ZumzYxMwF4Vb",
        "colab_type": "text"
      },
      "source": [
        "**Contoh Alias pada tabel**\n",
        "\n",
        "- SELECT * FROM ms_produk t2\n",
        "\n",
        "- SELECT t2.nama_produk, t2.harga FROM ms_produk t2;"
      ]
    },
    {
      "cell_type": "markdown",
      "metadata": {
        "id": "b3vuxrbVHDgV",
        "colab_type": "text"
      },
      "source": [
        "**KESIMPULAN: **\n",
        "\n",
        "Kesimpulan\n",
        "Aku kembali mengambil catatanku dan menuliskan apa yang telah aku pelajari:\n",
        "\n",
        "Perintah SELECT dapat ditulis dengan variasi identitas kolom dan tabel berupa prefix dan alias.\n",
        "Penulisan lengkap untuk nama kolom adalah prefix berupa nama tabel disertai tanda titik sebelum nama kolom itu sendiri.\n",
        "Alias adalah nama lain yang diberikan untuk kolom maupun tabel.\n",
        "Alias dapat digunakan dengan keyword AS atau tanpa keyword AS setelah nama kolom dan tabel.\n",
        "Prefix nama tabel bisa menggunakan alias.\n",
        "Pemahaman mengenai prefix dan alias akan mendorong kemampuan identifikasi tabel maupun kolom yang terlibat untuk perintah SELECT yang lebih kompleks.\n",
        "\n",
        " \n",
        "\n",
        " "
      ]
    }
  ]
}