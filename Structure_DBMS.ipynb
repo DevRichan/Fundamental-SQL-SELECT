{
  "nbformat": 4,
  "nbformat_minor": 0,
  "metadata": {
    "colab": {
      "name": "Structure_DBMS.ipynb",
      "provenance": [],
      "authorship_tag": "ABX9TyPv1cT00o2ewalAW4iy21Sg",
      "include_colab_link": true
    },
    "kernelspec": {
      "name": "python3",
      "display_name": "Python 3"
    }
  },
  "cells": [
    {
      "cell_type": "markdown",
      "metadata": {
        "id": "view-in-github",
        "colab_type": "text"
      },
      "source": [
        "<a href=\"https://colab.research.google.com/github/DevRichan/Fundamental-SQL-SELECT/blob/master/Structure_DBMS.ipynb\" target=\"_parent\"><img src=\"https://colab.research.google.com/assets/colab-badge.svg\" alt=\"Open In Colab\"/></a>"
      ]
    },
    {
      "cell_type": "code",
      "metadata": {
        "id": "QvRdk6ppZUS2",
        "colab_type": "code",
        "colab": {
          "base_uri": "https://localhost:8080/",
          "height": 34
        },
        "outputId": "9e3e8029-1a4c-4ec0-9d95-dfcd7eb27fbf"
      },
      "source": [
        "print(\"Structure DBMS\")"
      ],
      "execution_count": 1,
      "outputs": [
        {
          "output_type": "stream",
          "text": [
            "Structure DBMS\n"
          ],
          "name": "stdout"
        }
      ]
    },
    {
      "cell_type": "markdown",
      "metadata": {
        "id": "6FqcCXSRZy76",
        "colab_type": "text"
      },
      "source": [
        "Struktur Hirarki\n",
        "\n",
        " - Database\n",
        "   - Tabel\n",
        "     - Kolom\n",
        "\n",
        "satu database terdiri dari beberapa tabel, dan 1 tabel terdiri dari beberapa kolom"
      ]
    },
    {
      "cell_type": "markdown",
      "metadata": {
        "id": "6fbpLoSIaFDd",
        "colab_type": "text"
      },
      "source": [
        "**Kesimpulan**\n",
        "Wah ternyata seru sekali belajar SQL! \n",
        "\n",
        "Aku mulai membuka catataanku, mengambil pena, dan menuliskan apa yang aku pelajari:\n",
        "\n",
        "Sistem relasional database atau relational database management system (RDBMS) adalah sistem database paling populer di dunia saat ini dan menggunakan bahasa SQL untuk pengolahannya.\n",
        "Beberapa produk RDBMS yang terkenal antara lain adalah Microsoft SQL Server, Oracle, MySQL, PostgreSQL, IBM DB2, dan masih banyak lainnya.\n",
        "Struktur penyimpanan data di RDBMS menggunakan hirarki:\n",
        "Database\n",
        "Tabel (Table)\n",
        "Kolom (Column)\n",
        "Data akan diisi ke dalam table dalam bentuk Baris (Row) data"
      ]
    }
  ]
}