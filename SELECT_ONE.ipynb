{
  "nbformat": 4,
  "nbformat_minor": 0,
  "metadata": {
    "colab": {
      "name": "SELECT ONE.ipynb",
      "provenance": [],
      "collapsed_sections": [],
      "authorship_tag": "ABX9TyMV6y7gxg71xmqfCNp0UpRj",
      "include_colab_link": true
    },
    "kernelspec": {
      "name": "python3",
      "display_name": "Python 3"
    }
  },
  "cells": [
    {
      "cell_type": "markdown",
      "metadata": {
        "id": "view-in-github",
        "colab_type": "text"
      },
      "source": [
        "<a href=\"https://colab.research.google.com/github/DevRichan/Fundamental-SQL-SELECT/blob/master/SELECT_ONE.ipynb\" target=\"_parent\"><img src=\"https://colab.research.google.com/assets/colab-badge.svg\" alt=\"Open In Colab\"/></a>"
      ]
    },
    {
      "cell_type": "markdown",
      "metadata": {
        "id": "LUOjQej4eEvG",
        "colab_type": "text"
      },
      "source": [
        "SYNTAX DASAR: \n",
        "SELECT ***column*** FROM ***nama_table***\n",
        "\n",
        "----------------------------------------------------------"
      ]
    },
    {
      "cell_type": "markdown",
      "metadata": {
        "id": "JRutE1hQdrtg",
        "colab_type": "text"
      },
      "source": [
        "- Menampilkan data dari seluruh column\n",
        "\n",
        "**SELECT * FROM ms_produk**\n",
        "\n",
        "(*) = wildcard (untuk mengambil seluruh column)\n",
        "\n",
        "\n",
        "----------------------------------------------------------\n",
        "\n",
        "----------------------------------------------------------\n",
        "\n",
        "-. Menampilkan data dari salah satu column\n",
        "\n",
        "**SELECT nama_produk FROM ms_produk**\n",
        "\n",
        "----------------------------------------------------------\n",
        "\n",
        "----------------------------------------------------------\n",
        "\n",
        "-. Menampilkan lebih data dari 1 column atau lebih\n",
        "\n",
        "**SELECT nama_produk, harga FROM ms_produk**\n",
        "\n",
        "---------------------------------------------------------\n",
        "\n",
        "----------------------------------------------------------\n",
        "\n",
        "-. Membatasi jumlah (row) data menggunakan **LIMIT**\n",
        "\n",
        "**SELECT nama_produk, harga FROM ms_produk LIMIT 5**\t\n",
        "\n",
        "---------------------------------------------------------\n",
        "\n",
        "----------------------------------------------------------\n",
        "\n",
        "-. Menghilangkan duplikasi data\n",
        "\n",
        "**SELECT DISTINCT nama_customer, alamat FROM ms_pelanggan**\n",
        "\n",
        "SELECT DISTINCT (nama kolom yang diambil datanya,..,..) FROM nama_tabel\n",
        "\n",
        "----------------------------------------------------------\n",
        "----------------------------------------------------------"
      ]
    },
    {
      "cell_type": "markdown",
      "metadata": {
        "id": "oTZotsrEoFlH",
        "colab_type": "text"
      },
      "source": [
        "**Kesimpulan**\n",
        "Aku mengambil catatanku, dan mulai menulis apa yang aku pelajari, sebelum aku melanjutkan belajarku:\n",
        "\n",
        "Perintah SELECT dapat digunakan untuk menentukan apa saja kolom yang akan diambil dengan menuliskan nama-nama kolom yang diinginkan menggunakan pemisah tanda koma.\n",
        "Perintah SELECT juga dapat digunakan untuk membatasi jumlah data yang dikeluarkan. Namun untuk berbagai produk bisa berbeda penulisannya. MySQL menggunakan LIMIT untuk tujuan tersebut.\n",
        "Perintah SELECT DISTINCT dapat digunakan untuk menghilangkan duplikasi baris dalam tabel dan hanya menampilkan baris data yang unik tanpa duplikasi.\n",
        " "
      ]
    }
  ]
}