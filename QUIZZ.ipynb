{
  "nbformat": 4,
  "nbformat_minor": 0,
  "metadata": {
    "colab": {
      "name": "QUIZZ.ipynb",
      "provenance": [],
      "collapsed_sections": [],
      "authorship_tag": "ABX9TyNDwng0z/8n5TJR+R8eyLpQ",
      "include_colab_link": true
    },
    "kernelspec": {
      "name": "python3",
      "display_name": "Python 3"
    }
  },
  "cells": [
    {
      "cell_type": "markdown",
      "metadata": {
        "id": "view-in-github",
        "colab_type": "text"
      },
      "source": [
        "<a href=\"https://colab.research.google.com/github/DevRichan/Fundamental-SQL-SELECT/blob/master/QUIZZ.ipynb\" target=\"_parent\"><img src=\"https://colab.research.google.com/assets/colab-badge.svg\" alt=\"Open In Colab\"/></a>"
      ]
    },
    {
      "cell_type": "markdown",
      "metadata": {
        "id": "bEok17YyRxsj",
        "colab_type": "text"
      },
      "source": [
        "Proyek dari Cabang A\n",
        "“Jadi, apakah kamu bisa menyiapkan data transaksi penjualan dengan total revenue >= IDR 100.000? \n",
        "\n",
        "Format datanya yang akan kamu tampilkan adalah: kode_pelanggan, nama_produk, qty, harga, dan total, serta diurutkan mulai dari total revenue terbesar,” pinta Senja padaku.\n",
        "\n",
        " \n",
        "\n",
        "Kalau kasusnya seperti ini, berarti aku perlu meng-query data tersebut dari tabel tr_penjualan yang terdapat di database perusahaan.\n",
        "\n",
        "Aku dapat melakukan\n",
        "\n",
        "perkalian antara kolom qty dan harga untuk memperoleh total revenue setiap kode pelanggan yang dinyatakan ke dalam kolom total, dan\n",
        "menggunakan “ORDER BY total DESC” pada akhir query untuk mengurutkan data.\n",
        " \n",
        "\n",
        "Aku pun menerima tantangan proyek ini! Senja pun segera mengirim detailnya melalui email yang berisi contoh tabel sebagai berikut untuk segera kukerjakan."
      ]
    },
    {
      "cell_type": "code",
      "metadata": {
        "id": "O7F-W_HxRr8r",
        "colab_type": "code",
        "colab": {
          "base_uri": "https://localhost:8080/",
          "height": 132
        },
        "outputId": "8e86f5d2-8512-4152-b72b-445edf8620fa"
      },
      "source": [
        "SELECT kode_pelanggan, nama_produk, qty, harga, qty * harga AS total FROM tr_penjualan WHERE qty * harga >= 100000 ORDER BY total DESC;"
      ],
      "execution_count": 1,
      "outputs": [
        {
          "output_type": "error",
          "ename": "SyntaxError",
          "evalue": "ignored",
          "traceback": [
            "\u001b[0;36m  File \u001b[0;32m\"<ipython-input-1-bf480fc5d67d>\"\u001b[0;36m, line \u001b[0;32m1\u001b[0m\n\u001b[0;31m    SELECT kode_pelanggan, nama_produk, qty, harga, qty * harga AS total FROM tr_penjualan WHERE qty * harga >= 100000 ORDER BY total DESC;\u001b[0m\n\u001b[0m                        ^\u001b[0m\n\u001b[0;31mSyntaxError\u001b[0m\u001b[0;31m:\u001b[0m invalid syntax\n"
          ]
        }
      ]
    },
    {
      "cell_type": "markdown",
      "metadata": {
        "id": "KwbXoS7cR-eV",
        "colab_type": "text"
      },
      "source": [
        "**Yang di pelajari yaitu:**\n",
        "\n",
        "\n",
        "Konsep Sistem Database Relasional atau Relational Database Management System (RDBMS).\n",
        "Struktur penyimpanan RDBMS yang terdiri dari database, tabel, kolom (column) dan baris (row).\n",
        "Pengenalan perintah SELECT untuk mengambil data dari tabel.\n",
        "Teknik SELECT, dimana aku dapat:\n",
        "Mengambil kolom tertentu.\n",
        "Mengambil jumlah data tertentu.\n",
        "Menggunakan prefix dan alias.\n",
        "Menggunakan filter.\n"
      ]
    }
  ]
}