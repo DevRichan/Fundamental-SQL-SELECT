{
  "nbformat": 4,
  "nbformat_minor": 0,
  "metadata": {
    "colab": {
      "name": "SELECT WHERE.ipynb",
      "provenance": [],
      "collapsed_sections": [],
      "authorship_tag": "ABX9TyMIqO8qsGiJcZ5iiq7pBy+9",
      "include_colab_link": true
    },
    "kernelspec": {
      "name": "python3",
      "display_name": "Python 3"
    }
  },
  "cells": [
    {
      "cell_type": "markdown",
      "metadata": {
        "id": "view-in-github",
        "colab_type": "text"
      },
      "source": [
        "<a href=\"https://colab.research.google.com/github/DevRichan/Fundamental-SQL-SELECT/blob/master/SELECT_WHERE.ipynb\" target=\"_parent\"><img src=\"https://colab.research.google.com/assets/colab-badge.svg\" alt=\"Open In Colab\"/></a>"
      ]
    },
    {
      "cell_type": "markdown",
      "metadata": {
        "id": "9_myI_JAKfL8",
        "colab_type": "text"
      },
      "source": [
        "**Using WHERE**\n",
        "SELECT * FROM ms_produk WHERE nama_produk = 'Tas Travel Organizer DQLab';"
      ]
    },
    {
      "cell_type": "markdown",
      "metadata": {
        "id": "sNxLReC8Kpl7",
        "colab_type": "text"
      },
      "source": [
        "**Where using OR**\n",
        "\n",
        "SELECT nama_kolom from nama_tabel WHERE nama_kolom = kondisi1 or kondisi2\n",
        "\n",
        "SELECT * FROM ms_produk WHERE nama_produk = 'Gantungan Kunci DQLab' or nama_produk = 'Tas Travel Organizer DQLab' or nama_produk = 'Flashdisk DQLab 64 GB'"
      ]
    },
    {
      "cell_type": "markdown",
      "metadata": {
        "id": "Y84HyMHVMBho",
        "colab_type": "text"
      },
      "source": [
        "**Where using AND`**\n",
        "SELECT * FROM ms_produk WHERE nama_produk = 'Gantungan Kunci DQLab' AND harga < 50000\t\t\n"
      ]
    },
    {
      "cell_type": "markdown",
      "metadata": {
        "id": "0r3CLRJ7Kx3O",
        "colab_type": "text"
      },
      "source": [
        "**Filter for number**\n",
        "\n",
        "SELECT * FROM ms_produk WHERE harga > 50000\n",
        "\n",
        "\t\t"
      ]
    },
    {
      "cell_type": "markdown",
      "metadata": {
        "id": "n97QEwe5NPvP",
        "colab_type": "text"
      },
      "source": [
        "**Kesimpulan : **\n",
        "\n",
        "Filter di SQL diimplementasikan dengan menggunakan WHERE diikuti dengan satu atau lebih kondisi logis.\n",
        "Kondisi logis ini memiliki format nama kolom diikuti dengan nilai yang akan difilter. Untuk teks sederhana bisa menggunakan tanda sama dengan, sedangkan untuk nilai angka bisa menggunakan operator perbandingan matematika.\n",
        "Aku juga bisa menggunakan operand OR dan AND untuk menggabungkan beberapa kondisi menjadi satu kondisi baru yang harus terpenuhi untuk pengambilan data."
      ]
    }
  ]
}